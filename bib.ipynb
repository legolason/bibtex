{
 "cells": [
  {
   "cell_type": "code",
   "execution_count": 2,
   "metadata": {},
   "outputs": [
    {
     "name": "stdout",
     "output_type": "stream",
     "text": [
      "123\n",
      "finished!\n"
     ]
    }
   ],
   "source": [
    "import numpy as np\n",
    "import bibtexparser\n",
    "from bibtexparser.bwriter import BibTexWriter\n",
    "\n",
    "#Purpose:\n",
    "#Rewrite the BIBTEX reference list so that it can be easily cited in LaTeX manuscripts.\n",
    "\n",
    "\n",
    "#Change ID like 2019ApJS..241...34S  to Shen19, no matter how many authers\n",
    "#if first name is Raki{\\'c} in 2019, it will be Rakic19\n",
    "#if first name is Vanden berk in 2001, it will be Vandenberk01\n",
    "\n",
    "\n",
    "#input new ADS BibTex format\n",
    "with open('./export-bibtex.bbl') as bibtex_file:\n",
    "    bibtex_str = bibtex_file.read()\n",
    "\n",
    "bib = bibtexparser.loads(bibtex_str)\n",
    "allID=[]\n",
    "\n",
    "#change ID\n",
    "for i in range(len(bib.entries)):\n",
    "    author = bib.entries[i]['author']\n",
    "    year=bib.entries[i]['year']\n",
    "    start=[n for n in xrange(len(author)) if author.find('{', n) == n]\n",
    "    end = [n for n in xrange(len(author)) if author.find('}', n) == n]\n",
    "    \n",
    "    try:\n",
    "        # at least two \"{}\"\n",
    "        if author[start[1]+1] == '\\\\':\n",
    "            new_ID = (author[1: start[1]]+author[start[1]+3]+author[end[0]+1:end[1]]+year[-2:]).replace(\" \",\"\")\n",
    "        else:\n",
    "            new_ID = (author[1:end[0]]+year[-2:]).replace(\" \",\"\")\n",
    "    except:\n",
    "        # if only 1 \"{}\" like only one auther\n",
    "        new_ID = (author[1:end[0]]+year[-2:]).replace(\" \",\"\")\n",
    "    \n",
    "    bib.entries[i]['ID'] = new_ID\n",
    "    allID.append(new_ID)\n",
    "    \n",
    "# add a,b,c,d,e for same ID e.g., Guo18a,Guo18b, at most to Guo18e. \n",
    "un_id, un_ind, count = np.unique(allID,return_counts=True,return_index=True)\n",
    "indle2 = np.where(count>1,True,False)\n",
    "for j in range(len(un_id[indle2])):\n",
    "    c=0\n",
    "    for i in range(len(bib.entries)):\n",
    "        if  bib.entries[i]['ID'] == un_id[indle2][j]:\n",
    "            if c == 0:\n",
    "                bib.entries[i]['ID'] =  bib.entries[i]['ID'] + 'a'\n",
    "            if c == 1:\n",
    "                bib.entries[i]['ID'] =  bib.entries[i]['ID'] + 'b'\n",
    "            if c == 2:\n",
    "                bib.entries[i]['ID'] =  bib.entries[i]['ID'] + 'c'\n",
    "            if c == 3:\n",
    "                bib.entries[i]['ID'] =  bib.entries[i]['ID'] + 'd'\n",
    "            if c == 4:\n",
    "                bib.entries[i]['ID'] =  bib.entries[i]['ID'] + 'e'\n",
    "            c=c+1\n",
    "\n",
    "#save file\n",
    "writer = BibTexWriter()\n",
    "writer.indent = '    '     # indent entries with 4 spaces instead of one\n",
    "with open('ref.bib', 'w') as bibfile:\n",
    "    bibfile.write(writer.write(bib))\n",
    "print len(bib.entries)\n",
    "print 'finished!'"
   ]
  },
  {
   "cell_type": "code",
   "execution_count": null,
   "metadata": {},
   "outputs": [],
   "source": []
  }
 ],
 "metadata": {
  "kernelspec": {
   "display_name": "Python 2",
   "language": "python",
   "name": "python2"
  },
  "language_info": {
   "codemirror_mode": {
    "name": "ipython",
    "version": 2
   },
   "file_extension": ".py",
   "mimetype": "text/x-python",
   "name": "python",
   "nbconvert_exporter": "python",
   "pygments_lexer": "ipython2",
   "version": "2.7.3"
  }
 },
 "nbformat": 4,
 "nbformat_minor": 2
}
